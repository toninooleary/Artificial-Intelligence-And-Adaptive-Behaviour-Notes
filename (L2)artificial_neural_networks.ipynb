{
 "nbformat": 4,
 "nbformat_minor": 2,
 "metadata": {
  "language_info": {
   "name": "python",
   "codemirror_mode": {
    "name": "ipython",
    "version": 3
   }
  },
  "orig_nbformat": 2,
  "file_extension": ".py",
  "mimetype": "text/x-python",
  "name": "python",
  "npconvert_exporter": "python",
  "pygments_lexer": "ipython3",
  "version": 3
 },
 "cells": [
  {
   "cell_type": "markdown",
   "metadata": {},
   "source": [
    "# Artificial neural networks"
   ]
  },
  {
   "cell_type": "markdown",
   "metadata": {},
   "source": [
    "## Symbolic old fasioned ai:\n",
    "- decompose the world into symbols and manipulate them to produce actions.\n",
    "\n",
    "diagram"
   ]
  },
  {
   "cell_type": "markdown",
   "metadata": {},
   "source": [
    "## Symbolic AI:\n",
    "- Manipulating categories/symbols to create an output.\n",
    "\n",
    "- eg.g a patient has characteristics, they would be manipulated to produce a diagnosis.\n",
    "\n",
    "diagram"
   ]
  },
  {
   "cell_type": "markdown",
   "metadata": {},
   "source": [
    "## Connectionism\n",
    "\n",
    "- Connectionism looks at how the brain works at the neural level, specifically how people learn and remember.\n",
    "\n",
    "- The brain itself doesn't work in the way that symbolic AI does. Thousands of neurons represent symbols(E.g. thousands of neurons to represent a chair)\n",
    "\n",
    "- Therefore, AI doesn't come from manipulation of symbols but distributed processes and the interaction of neurons.\n",
    "\n",
    "image"
   ]
  },
  {
   "cell_type": "markdown",
   "metadata": {},
   "source": [
    "## Feed-forward Neural Networks\n",
    "\n",
    "- The simplest type of neural network. It has a single layer and is simple enough to be manually written. \n",
    "\n",
    "![diagram](./pictures/feed_forward.PNG \"Dipiction of a feed forward neural network\")\n",
    "\n",
    "* nodes (neurons)\n",
    "* Edges, connections (synapses and axons)"
   ]
  },
  {
   "cell_type": "markdown",
   "metadata": {},
   "source": [
    "## Input layer\n",
    "\n",
    "* An image matrix would be unrolled to create the first layer of the network.\n",
    "\n",
    "![diagram](./pictures/feed_forward_input.PNG \"Visual representation of how inputs of a feed forward work\")"
   ]
  },
  {
   "cell_type": "markdown",
   "metadata": {},
   "source": [
    "## Output\n",
    "\n",
    "* The output will give a value that represents a classification.\n",
    "\n",
    "* there can be more than one output describing features of the input.\n",
    "\n",
    "![diagram](./pictures/feed_forward_output.PNG \"The outputs that the feed forward network might give\")\n",
    "\n",
    "* In this case, the example feed forward network gave two outputs one to represent how quare it is and one to represent how dark it is.\n",
    "\n"
   ]
  },
  {
   "cell_type": "markdown",
   "metadata": {},
   "source": [
    "## Processing layer\n",
    "\n",
    "It consists of:\n",
    "- Activation (calculating the weights sum)\n",
    "- Transfer (step functions)\n",
    "\n",
    "![diagram](./pictures/processing_layer.PNG \"Dipiction of the processing layer\")"
   ]
  },
  {
   "cell_type": "markdown",
   "metadata": {},
   "source": [
    "## weights:\n",
    "\n",
    "- each edge has a weight (represents the strength of that connection)\n",
    "- All weighted edges will give you a weight matrix\n",
    "\n",
    "![diagram](./pictures/weights.PNG \"weights\")"
   ]
  },
  {
   "cell_type": "markdown",
   "metadata": {},
   "source": [
    "## Activation:\n",
    "\n",
    "activation = Weights $*$ inputs\n",
    "\n",
    "- There are amny ways to do Activation\n",
    "- We will be doing this by taking the linear sum (the product)\n"
   ]
  },
  {
   "cell_type": "markdown",
   "metadata": {},
   "source": [
    " ## working out the Activation (product)\n",
    "![diagram](./pictures/activation.PNG \"The mathematics behing activation\")\n",
    "\n",
    "#### Example:\n",
    "![diagram](./pictures/activation_example.PNG \"An example of how to work out activation in practice\")"
   ]
  },
  {
   "cell_type": "markdown",
   "metadata": {},
   "source": []
  }
 ]
}